{
 "cells": [
  {
   "cell_type": "code",
   "execution_count": 1,
   "metadata": {},
   "outputs": [],
   "source": [
    "import subprocess\n",
    "from notebook_helpers import play_video\n",
    "import cv2\n",
    "import numpy as np"
   ]
  },
  {
   "cell_type": "code",
   "execution_count": 2,
   "metadata": {},
   "outputs": [
    {
     "data": {
      "text/html": [
       "\n",
       "        <video width=\"320\" height=\"240\" controls>\n",
       "        <source src=\"../video/video_1.mp4\" type=\"video/mp4\">\n",
       "        </video>\n",
       "        "
      ],
      "text/plain": [
       "<IPython.core.display.HTML object>"
      ]
     },
     "execution_count": 2,
     "metadata": {},
     "output_type": "execute_result"
    }
   ],
   "source": [
    "# play video 1\n",
    "play_video('../video/video_1.mp4')"
   ]
  },
  {
   "cell_type": "code",
   "execution_count": 3,
   "metadata": {},
   "outputs": [
    {
     "data": {
      "text/html": [
       "\n",
       "        <video width=\"320\" height=\"240\" controls>\n",
       "        <source src=\"../video/video_2.mp4\" type=\"video/mp4\">\n",
       "        </video>\n",
       "        "
      ],
      "text/plain": [
       "<IPython.core.display.HTML object>"
      ]
     },
     "execution_count": 3,
     "metadata": {},
     "output_type": "execute_result"
    }
   ],
   "source": [
    "# play video 2\n",
    "play_video('../video/video_2.mp4')"
   ]
  },
  {
   "cell_type": "code",
   "execution_count": 4,
   "metadata": {},
   "outputs": [
    {
     "data": {
      "text/plain": [
       "CompletedProcess(args=['ffmpeg', '-y', '-i', '../video/video_1.mp4', '-i', '../video/video_2.mp4', '-filter_complex', 'mix', '../video/output.mp4'], returncode=0)"
      ]
     },
     "execution_count": 4,
     "metadata": {},
     "output_type": "execute_result"
    }
   ],
   "source": [
    "# use ffmpeg to mix 2 videos\n",
    "subprocess.run([\"ffmpeg\", \"-y\",\"-i\", \"../video/video_1.mp4\", \"-i\", \"../video/video_2.mp4\", \"-filter_complex\", \"mix\", \"../video/output.mp4\"])"
   ]
  },
  {
   "cell_type": "code",
   "execution_count": 5,
   "metadata": {},
   "outputs": [
    {
     "data": {
      "text/html": [
       "\n",
       "        <video width=\"320\" height=\"240\" controls>\n",
       "        <source src=\"../video/output.mp4\" type=\"video/mp4\">\n",
       "        </video>\n",
       "        "
      ],
      "text/plain": [
       "<IPython.core.display.HTML object>"
      ]
     },
     "execution_count": 5,
     "metadata": {},
     "output_type": "execute_result"
    }
   ],
   "source": [
    "# play output video\n",
    "play_video('../video/output.mp4')"
   ]
  },
  {
   "cell_type": "code",
   "execution_count": 6,
   "metadata": {},
   "outputs": [
    {
     "data": {
      "text/plain": [
       "CompletedProcess(args=['ffmpeg', '-y', '-i', '../video/output.mp4', '-vf', 'eq=contrast=9', '../video/output2.mp4'], returncode=0)"
      ]
     },
     "execution_count": 6,
     "metadata": {},
     "output_type": "execute_result"
    }
   ],
   "source": [
    "# change the contrast\n",
    "subprocess.run([\"ffmpeg\", \"-y\",\"-i\", \"../video/output.mp4\", \"-vf\", \"eq=contrast=9\", \"../video/output2.mp4\"])"
   ]
  },
  {
   "cell_type": "code",
   "execution_count": 7,
   "metadata": {},
   "outputs": [
    {
     "data": {
      "text/html": [
       "\n",
       "        <video width=\"320\" height=\"240\" controls>\n",
       "        <source src=\"../video/output2.mp4\" type=\"video/mp4\">\n",
       "        </video>\n",
       "        "
      ],
      "text/plain": [
       "<IPython.core.display.HTML object>"
      ]
     },
     "execution_count": 7,
     "metadata": {},
     "output_type": "execute_result"
    }
   ],
   "source": [
    "# play output2 video\n",
    "play_video('../video/output2.mp4')"
   ]
  },
  {
   "cell_type": "code",
   "execution_count": 8,
   "metadata": {},
   "outputs": [],
   "source": [
    "#中值滤波&非局部平均去噪\n",
    "video_path = \"../video/output2.mp4\"\n",
    "cap = cv2.VideoCapture(video_path )\n",
    "\n",
    "fps = cap.get(cv2.CAP_PROP_FPS) #获取视频的帧率\n",
    "size = (int(cap.get(cv2.CAP_PROP_FRAME_WIDTH)),\n",
    "        int(cap.get(cv2.CAP_PROP_FRAME_HEIGHT)))#获取视频的大小\n",
    "fourcc = cv2.VideoWriter_fourcc(*'avc1')  #要保存的视频编码\n",
    "#把处理过的视频保存下来\n",
    "output_viedo = cv2.VideoWriter()\n",
    "#保存的视频地址\n",
    "video_save_path = '../video/output3.mp4'\n",
    "output_viedo.open(video_save_path , fourcc, fps, size, True)\n",
    "while True:\n",
    "    ret, image_np = cap.read()\n",
    "    if not(ret):\n",
    "        break\n",
    "    image_np = cv2.medianBlur(image_np,7) #中值滤波\n",
    "    image_np = cv2.fastNlMeansDenoising(image_np, 15, 8, 25) #非局部平均去噪\n",
    "    output_viedo.write(image_np) #把帧写入到视频中\n",
    "output_viedo.release()#释放\n",
    "cap.release()#释放"
   ]
  },
  {
   "cell_type": "code",
   "execution_count": 9,
   "metadata": {},
   "outputs": [
    {
     "data": {
      "text/html": [
       "\n",
       "        <video width=\"320\" height=\"240\" controls>\n",
       "        <source src=\"../video/output3.mp4\" type=\"video/mp4\">\n",
       "        </video>\n",
       "        "
      ],
      "text/plain": [
       "<IPython.core.display.HTML object>"
      ]
     },
     "execution_count": 9,
     "metadata": {},
     "output_type": "execute_result"
    }
   ],
   "source": [
    "# play output3 video\n",
    "play_video('../video/output3.mp4')"
   ]
  },
  {
   "cell_type": "code",
   "execution_count": 10,
   "metadata": {},
   "outputs": [],
   "source": [
    "#锐化\n",
    "video_path = \"../video/output3.mp4\"\n",
    "cap = cv2.VideoCapture(video_path )\n",
    "\n",
    "fps = cap.get(cv2.CAP_PROP_FPS) #获取视频的帧率\n",
    "size = (int(cap.get(cv2.CAP_PROP_FRAME_WIDTH)),\n",
    "        int(cap.get(cv2.CAP_PROP_FRAME_HEIGHT)))#获取视频的大小\n",
    "fourcc = cv2.VideoWriter_fourcc(*'avc1')  #要保存的视频编码\n",
    "#把处理过的视频保存下来\n",
    "output_viedo = cv2.VideoWriter()\n",
    "#保存的视频地址\n",
    "video_save_path = '../video/output4.mp4'\n",
    "output_viedo.open(video_save_path , fourcc, fps, size, True)\n",
    "while True:\n",
    "    ret, image_np = cap.read()\n",
    "    if not(ret):\n",
    "        break\n",
    "    kernel = np.array([[0, -1, 0], [-1, 5, -1], [0, -1, 0]],dtype=np.float32) #锐化\n",
    "    image_np = cv2.filter2D(image_np, -1, kernel=kernel)\n",
    "    output_viedo.write(image_np) #把帧写入到视频中\n",
    "output_viedo.release()#释放\n",
    "cap.release()#释放"
   ]
  },
  {
   "cell_type": "code",
   "execution_count": 11,
   "metadata": {},
   "outputs": [
    {
     "data": {
      "text/html": [
       "\n",
       "        <video width=\"320\" height=\"240\" controls>\n",
       "        <source src=\"../video/output4.mp4\" type=\"video/mp4\">\n",
       "        </video>\n",
       "        "
      ],
      "text/plain": [
       "<IPython.core.display.HTML object>"
      ]
     },
     "execution_count": 11,
     "metadata": {},
     "output_type": "execute_result"
    }
   ],
   "source": [
    "# play output4 video\n",
    "play_video('../video/output4.mp4')"
   ]
  },
  {
   "cell_type": "code",
   "execution_count": 12,
   "metadata": {},
   "outputs": [],
   "source": [
    "#再一次中值滤波\n",
    "video_path = \"../video/output4.mp4\"\n",
    "cap = cv2.VideoCapture(video_path )\n",
    "\n",
    "fps = cap.get(cv2.CAP_PROP_FPS) #获取视频的帧率\n",
    "size = (int(cap.get(cv2.CAP_PROP_FRAME_WIDTH)),\n",
    "        int(cap.get(cv2.CAP_PROP_FRAME_HEIGHT)))#获取视频的大小\n",
    "fourcc = cv2.VideoWriter_fourcc(*'avc1')  #要保存的视频编码\n",
    "#把处理过的视频保存下来\n",
    "output_viedo = cv2.VideoWriter()\n",
    "#保存的视频地址\n",
    "video_save_path = '../video/output5.mp4'\n",
    "output_viedo.open(video_save_path , fourcc, fps, size, True)\n",
    "while True:\n",
    "    ret, image_np = cap.read()\n",
    "    if not(ret):\n",
    "        break\n",
    "    image_np = cv2.medianBlur(image_np,7) #中值滤波\n",
    "    output_viedo.write(image_np) #把帧写入到视频中\n",
    "output_viedo.release()#释放\n",
    "cap.release()#释放"
   ]
  },
  {
   "cell_type": "code",
   "execution_count": 13,
   "metadata": {},
   "outputs": [
    {
     "data": {
      "text/html": [
       "\n",
       "        <video width=\"320\" height=\"240\" controls>\n",
       "        <source src=\"../video/output5.mp4\" type=\"video/mp4\">\n",
       "        </video>\n",
       "        "
      ],
      "text/plain": [
       "<IPython.core.display.HTML object>"
      ]
     },
     "execution_count": 13,
     "metadata": {},
     "output_type": "execute_result"
    }
   ],
   "source": [
    "# play output5 video\n",
    "play_video('../video/output5.mp4')"
   ]
  }
 ],
 "metadata": {
  "kernelspec": {
   "display_name": "Python 3",
   "language": "python",
   "name": "python3"
  },
  "language_info": {
   "codemirror_mode": {
    "name": "ipython",
    "version": 3
   },
   "file_extension": ".py",
   "mimetype": "text/x-python",
   "name": "python",
   "nbconvert_exporter": "python",
   "pygments_lexer": "ipython3",
   "version": "3.7.4"
  }
 },
 "nbformat": 4,
 "nbformat_minor": 2
}
