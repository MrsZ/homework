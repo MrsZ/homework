{
 "cells": [
  {
   "cell_type": "code",
   "execution_count": 4,
   "metadata": {},
   "outputs": [],
   "source": [
    "import subprocess\n",
    "from lab.helpers.notebook_helpers import play_video"
   ]
  },
  {
   "cell_type": "markdown",
   "metadata": {},
   "source": [
    "NOTE:\n",
    "1. [mix] mix 2 video to one visable\n",
    "2. [nlmeans + bm3d] denoise\n",
    "3. [eq] adjust contrast\n",
    "\n",
    "The result is not very good, I prefer the origin one.\n",
    "Encode only ONE time will be better(less encode loss).\n",
    "\n",
    "!ffmpeg -i ../video/video_mixed.mp4 -vf \"split[a][b];[a]bm3d=sigma=3:block=4:bstep=2:group=1:estim=basic[a];[b][a]bm3d=sigma=3:block=4:bstep=2:group=16:estim=final:ref=1[c];[c]eq=contrast=0.5:brightness=0.1\" ../video/video_mixed_bm3d.mp4 -y"
   ]
  },
  {
   "cell_type": "code",
   "execution_count": 2,
   "metadata": {},
   "outputs": [
    {
     "data": {
      "text/html": [
       "\n",
       "        <video width=\"320\" height=\"240\" controls>\n",
       "        <source src=\"../video/video_1.mp4\" type=\"video/mp4\">\n",
       "        </video>\n",
       "        "
      ],
      "text/plain": [
       "<IPython.core.display.HTML object>"
      ]
     },
     "execution_count": 2,
     "metadata": {},
     "output_type": "execute_result"
    }
   ],
   "source": [
    "# play video 1\n",
    "play_video('../video/video_1.mp4')"
   ]
  },
  {
   "cell_type": "code",
   "execution_count": 3,
   "metadata": {},
   "outputs": [
    {
     "data": {
      "text/html": [
       "\n",
       "        <video width=\"320\" height=\"240\" controls>\n",
       "        <source src=\"../video/video_2.mp4\" type=\"video/mp4\">\n",
       "        </video>\n",
       "        "
      ],
      "text/plain": [
       "<IPython.core.display.HTML object>"
      ]
     },
     "execution_count": 3,
     "metadata": {},
     "output_type": "execute_result"
    }
   ],
   "source": [
    "# play video 2\n",
    "play_video('../video/video_2.mp4')"
   ]
  },
  {
   "cell_type": "code",
   "execution_count": 4,
   "metadata": {
    "collapsed": true
   },
   "outputs": [
    {
     "name": "stdout",
     "output_type": "stream",
     "text": [
      "ffmpeg version n4.3.1 Copyright (c) 2000-2020 the FFmpeg developers\n",
      "  built with gcc 10.1.0 (GCC)\n",
      "  configuration: --prefix=/usr --disable-debug --disable-static --disable-stripping --enable-avisynth --enable-fontconfig --enable-gmp --enable-gnutls --enable-gpl --enable-ladspa --enable-libaom --enable-libass --enable-libbluray --enable-libdav1d --enable-libdrm --enable-libfreetype --enable-libfribidi --enable-libgsm --enable-libiec61883 --enable-libjack --enable-libmfx --enable-libmodplug --enable-libmp3lame --enable-libopencore_amrnb --enable-libopencore_amrwb --enable-libopenjpeg --enable-libopus --enable-libpulse --enable-librav1e --enable-libsoxr --enable-libspeex --enable-libsrt --enable-libssh --enable-libtheora --enable-libv4l2 --enable-libvidstab --enable-libvmaf --enable-libvorbis --enable-libvpx --enable-libwebp --enable-libx264 --enable-libx265 --enable-libxcb --enable-libxml2 --enable-libxvid --enable-nvdec --enable-nvenc --enable-omx --enable-shared --enable-version3\n",
      "  libavutil      56. 51.100 / 56. 51.100\n",
      "  libavcodec     58. 91.100 / 58. 91.100\n",
      "  libavformat    58. 45.100 / 58. 45.100\n",
      "  libavdevice    58. 10.100 / 58. 10.100\n",
      "  libavfilter     7. 85.100 /  7. 85.100\n",
      "  libswscale      5.  7.100 /  5.  7.100\n",
      "  libswresample   3.  7.100 /  3.  7.100\n",
      "  libpostproc    55.  7.100 / 55.  7.100\n",
      "Input #0, mov,mp4,m4a,3gp,3g2,mj2, from '../video/video_1.mp4':\n",
      "  Metadata:\n",
      "    major_brand     : isom\n",
      "    minor_version   : 512\n",
      "    compatible_brands: isomiso2avc1mp41\n",
      "    encoder         : Lavf58.45.100\n",
      "  Duration: 00:00:07.06, start: 0.000000, bitrate: 6133 kb/s\n",
      "    Stream #0:0(und): Video: h264 (High) (avc1 / 0x31637661), yuv420p, 320x240 [SAR 1:1 DAR 4:3], 6138 kb/s, 29.97 fps, 29.97 tbr, 30k tbn, 59.94 tbc (default)\n",
      "    Metadata:\n",
      "      handler_name    : VideoHandler\n",
      "    Stream #0:1(und): Audio: aac (LC) (mp4a / 0x6134706D), 44100 Hz, stereo, fltp, 2 kb/s (default)\n",
      "    Metadata:\n",
      "      handler_name    : SoundHandler\n",
      "Input #1, mov,mp4,m4a,3gp,3g2,mj2, from '../video/video_2.mp4':\n",
      "  Metadata:\n",
      "    major_brand     : isom\n",
      "    minor_version   : 512\n",
      "    compatible_brands: isomiso2avc1mp41\n",
      "    encoder         : Lavf58.45.100\n",
      "  Duration: 00:00:07.06, start: 0.000000, bitrate: 6096 kb/s\n",
      "    Stream #1:0(und): Video: h264 (High) (avc1 / 0x31637661), yuv420p, 320x240 [SAR 1:1 DAR 4:3], 6102 kb/s, 29.97 fps, 29.97 tbr, 30k tbn, 59.94 tbc (default)\n",
      "    Metadata:\n",
      "      handler_name    : VideoHandler\n",
      "    Stream #1:1(und): Audio: aac (LC) (mp4a / 0x6134706D), 44100 Hz, stereo, fltp, 2 kb/s (default)\n",
      "    Metadata:\n",
      "      handler_name    : SoundHandler\n",
      "Stream mapping:\n",
      "  Stream #0:0 (h264) -> mix:input0 (graph 0)\n",
      "  Stream #1:0 (h264) -> mix:input1 (graph 0)\n",
      "  mix (graph 0) -> Stream #0:0 (libx264)\n",
      "  Stream #0:1 -> #0:1 (aac (native) -> aac (native))\n",
      "Press [q] to stop, [?] for help\n",
      "\u001b[1;36m[libx264 @ 0x5557364ea640] \u001b[0musing SAR=1/1\n",
      "\u001b[1;36m[libx264 @ 0x5557364ea640] \u001b[0musing cpu capabilities: MMX2 SSE2Fast SSSE3 SSE4.2 AVX FMA3 BMI2 AVX2\n",
      "\u001b[1;36m[libx264 @ 0x5557364ea640] \u001b[0mprofile High, level 1.3, 4:2:0, 8-bit\n",
      "\u001b[1;36m[libx264 @ 0x5557364ea640] \u001b[0m264 - core 160 r3011 cde9a93 - H.264/MPEG-4 AVC codec - Copyleft 2003-2020 - http://www.videolan.org/x264.html - options: cabac=1 ref=3 deblock=1:0:0 analyse=0x3:0x113 me=hex subme=7 psy=1 psy_rd=1.00:0.00 mixed_ref=1 me_range=16 chroma_me=1 trellis=1 8x8dct=1 cqm=0 deadzone=21,11 fast_pskip=1 chroma_qp_offset=-2 threads=7 lookahead_threads=1 sliced_threads=0 nr=0 decimate=1 interlaced=0 bluray_compat=0 constrained_intra=0 bframes=3 b_pyramid=2 b_adapt=1 b_bias=0 direct=1 weightb=1 open_gop=0 weightp=2 keyint=250 keyint_min=25 scenecut=40 intra_refresh=0 rc_lookahead=40 rc=crf mbtree=1 crf=23.0 qcomp=0.60 qpmin=0 qpmax=69 qpstep=4 ip_ratio=1.40 aq=1:1.00\n",
      "Output #0, mp4, to '../video/video_mixed.mp4':\n",
      "  Metadata:\n",
      "    major_brand     : isom\n",
      "    minor_version   : 512\n",
      "    compatible_brands: isomiso2avc1mp41\n",
      "    encoder         : Lavf58.45.100\n",
      "    Stream #0:0: Video: h264 (libx264) (avc1 / 0x31637661), yuv420p, 320x240 [SAR 1:1 DAR 4:3], q=-1--1, 29.97 fps, 30k tbn, 29.97 tbc (default)\n",
      "    Metadata:\n",
      "      encoder         : Lavc58.91.100 libx264\n",
      "    Side data:\n",
      "      cpb: bitrate max/min/avg: 0/0/0 buffer size: 0 vbv_delay: N/A\n",
      "    Stream #0:1(und): Audio: aac (LC) (mp4a / 0x6134706D), 44100 Hz, stereo, fltp, 128 kb/s (default)\n",
      "    Metadata:\n",
      "      handler_name    : SoundHandler\n",
      "      encoder         : Lavc58.91.100 aac\n",
      "frame=  211 fps=0.0 q=-1.0 Lsize=    1030kB time=00:00:07.03 bitrate=1199.0kbits/s speed=10.1x    \n",
      "video:1021kB audio:2kB subtitle:0kB other streams:0kB global headers:0kB muxing overhead: 0.728562%\n",
      "\u001b[1;36m[libx264 @ 0x5557364ea640] \u001b[0mframe I:47    Avg QP:21.70  size:  8167\n",
      "\u001b[1;36m[libx264 @ 0x5557364ea640] \u001b[0mframe P:152   Avg QP:26.37  size:  4070\n",
      "\u001b[1;36m[libx264 @ 0x5557364ea640] \u001b[0mframe B:12    Avg QP:26.71  size:  3481\n",
      "\u001b[1;36m[libx264 @ 0x5557364ea640] \u001b[0mconsecutive B-frames: 89.1%  9.5%  1.4%  0.0%\n",
      "\u001b[1;36m[libx264 @ 0x5557364ea640] \u001b[0mmb I  I16..4: 52.6% 21.6% 25.8%\n",
      "\u001b[1;36m[libx264 @ 0x5557364ea640] \u001b[0mmb P  I16..4: 20.3% 27.8%  6.2%  P16..4: 13.1%  2.8%  1.9%  0.0%  0.0%    skip:27.9%\n",
      "\u001b[1;36m[libx264 @ 0x5557364ea640] \u001b[0mmb B  I16..4: 16.9%  6.4%  0.7%  B16..8: 31.8%  2.9%  0.5%  direct: 5.0%  skip:35.7%  L0:43.4% L1:53.6% BI: 3.0%\n",
      "\u001b[1;36m[libx264 @ 0x5557364ea640] \u001b[0m8x8 transform intra:40.2% inter:40.8%\n",
      "\u001b[1;36m[libx264 @ 0x5557364ea640] \u001b[0mcoded y,uvDC,uvAC intra: 79.6% 0.0% 0.0% inter: 26.1% 0.0% 0.0%\n",
      "\u001b[1;36m[libx264 @ 0x5557364ea640] \u001b[0mi16 v,h,dc,p: 14%  8% 72%  7%\n",
      "\u001b[1;36m[libx264 @ 0x5557364ea640] \u001b[0mi8 v,h,dc,ddl,ddr,vr,hd,vl,hu: 10%  7% 62%  4%  3%  3%  3%  3%  4%\n",
      "\u001b[1;36m[libx264 @ 0x5557364ea640] \u001b[0mi4 v,h,dc,ddl,ddr,vr,hd,vl,hu: 13%  9% 52%  5%  5%  5%  5%  3%  3%\n",
      "\u001b[1;36m[libx264 @ 0x5557364ea640] \u001b[0mi8c dc,h,v,p: 100%  0%  0%  0%\n",
      "\u001b[1;36m[libx264 @ 0x5557364ea640] \u001b[0mWeighted P-Frames: Y:18.4% UV:0.0%\n",
      "\u001b[1;36m[libx264 @ 0x5557364ea640] \u001b[0mref P L0: 48.8% 12.3% 14.2% 20.6%  4.2%\n",
      "\u001b[1;36m[libx264 @ 0x5557364ea640] \u001b[0mref B L0: 84.9% 15.1%\n",
      "\u001b[1;36m[libx264 @ 0x5557364ea640] \u001b[0mkb/s:1186.65\n",
      "\u001b[1;36m[aac @ 0x5557364cca40] \u001b[0mQavg: 65536.000\n"
     ]
    }
   ],
   "source": [
    "# use ffmpeg to mix 2 videos\n",
    "!ffmpeg -i ../video/video_1.mp4 -i ../video/video_2.mp4 -filter_complex mix ../video/video_mixed.mp4 -y"
   ]
  },
  {
   "cell_type": "code",
   "execution_count": 5,
   "metadata": {},
   "outputs": [
    {
     "data": {
      "text/html": [
       "\n",
       "        <video width=\"320\" height=\"240\" controls>\n",
       "        <source src=\"../video/video_mixed.mp4\" type=\"video/mp4\">\n",
       "        </video>\n",
       "        "
      ],
      "text/plain": [
       "<IPython.core.display.HTML object>"
      ]
     },
     "execution_count": 5,
     "metadata": {},
     "output_type": "execute_result"
    }
   ],
   "source": [
    "# play output video\n",
    "play_video('../video/video_mixed.mp4')"
   ]
  },
  {
   "cell_type": "code",
   "execution_count": 6,
   "metadata": {
    "collapsed": true
   },
   "outputs": [
    {
     "name": "stdout",
     "output_type": "stream",
     "text": [
      "ffmpeg version n4.3.1 Copyright (c) 2000-2020 the FFmpeg developers\n",
      "  built with gcc 10.1.0 (GCC)\n",
      "  configuration: --prefix=/usr --disable-debug --disable-static --disable-stripping --enable-avisynth --enable-fontconfig --enable-gmp --enable-gnutls --enable-gpl --enable-ladspa --enable-libaom --enable-libass --enable-libbluray --enable-libdav1d --enable-libdrm --enable-libfreetype --enable-libfribidi --enable-libgsm --enable-libiec61883 --enable-libjack --enable-libmfx --enable-libmodplug --enable-libmp3lame --enable-libopencore_amrnb --enable-libopencore_amrwb --enable-libopenjpeg --enable-libopus --enable-libpulse --enable-librav1e --enable-libsoxr --enable-libspeex --enable-libsrt --enable-libssh --enable-libtheora --enable-libv4l2 --enable-libvidstab --enable-libvmaf --enable-libvorbis --enable-libvpx --enable-libwebp --enable-libx264 --enable-libx265 --enable-libxcb --enable-libxml2 --enable-libxvid --enable-nvdec --enable-nvenc --enable-omx --enable-shared --enable-version3\n",
      "  libavutil      56. 51.100 / 56. 51.100\n",
      "  libavcodec     58. 91.100 / 58. 91.100\n",
      "  libavformat    58. 45.100 / 58. 45.100\n",
      "  libavdevice    58. 10.100 / 58. 10.100\n",
      "  libavfilter     7. 85.100 /  7. 85.100\n",
      "  libswscale      5.  7.100 /  5.  7.100\n",
      "  libswresample   3.  7.100 /  3.  7.100\n",
      "  libpostproc    55.  7.100 / 55.  7.100\n",
      "Input #0, mov,mp4,m4a,3gp,3g2,mj2, from '../video/video_mixed_contrast.mp4':\n",
      "  Metadata:\n",
      "    major_brand     : isom\n",
      "    minor_version   : 512\n",
      "    compatible_brands: isomiso2avc1mp41\n",
      "    encoder         : Lavf58.45.100\n",
      "  Duration: 00:00:07.06, start: 0.000000, bitrate: 1097 kb/s\n",
      "    Stream #0:0(und): Video: h264 (High) (avc1 / 0x31637661), yuv420p, 320x240 [SAR 1:1 DAR 4:3], 1089 kb/s, 29.97 fps, 29.97 tbr, 30k tbn, 59.94 tbc (default)\n",
      "    Metadata:\n",
      "      handler_name    : VideoHandler\n",
      "    Stream #0:1(und): Audio: aac (LC) (mp4a / 0x6134706D), 44100 Hz, stereo, fltp, 2 kb/s (default)\n",
      "    Metadata:\n",
      "      handler_name    : SoundHandler\n",
      "Stream mapping:\n",
      "  Stream #0:0 -> #0:0 (h264 (native) -> h264 (libx264))\n",
      "  Stream #0:1 -> #0:1 (aac (native) -> aac (native))\n",
      "Press [q] to stop, [?] for help\n",
      "\u001b[1;36m[libx264 @ 0x563fb1bc1700] \u001b[0musing SAR=1/1\n",
      "\u001b[1;36m[libx264 @ 0x563fb1bc1700] \u001b[0musing cpu capabilities: MMX2 SSE2Fast SSSE3 SSE4.2 AVX FMA3 BMI2 AVX2\n",
      "\u001b[1;36m[libx264 @ 0x563fb1bc1700] \u001b[0mprofile High, level 1.3, 4:2:0, 8-bit\n",
      "\u001b[1;36m[libx264 @ 0x563fb1bc1700] \u001b[0m264 - core 160 r3011 cde9a93 - H.264/MPEG-4 AVC codec - Copyleft 2003-2020 - http://www.videolan.org/x264.html - options: cabac=1 ref=3 deblock=1:0:0 analyse=0x3:0x113 me=hex subme=7 psy=1 psy_rd=1.00:0.00 mixed_ref=1 me_range=16 chroma_me=1 trellis=1 8x8dct=1 cqm=0 deadzone=21,11 fast_pskip=1 chroma_qp_offset=-2 threads=7 lookahead_threads=1 sliced_threads=0 nr=0 decimate=1 interlaced=0 bluray_compat=0 constrained_intra=0 bframes=3 b_pyramid=2 b_adapt=1 b_bias=0 direct=1 weightb=1 open_gop=0 weightp=2 keyint=250 keyint_min=25 scenecut=40 intra_refresh=0 rc_lookahead=40 rc=crf mbtree=1 crf=23.0 qcomp=0.60 qpmin=0 qpmax=69 qpstep=4 ip_ratio=1.40 aq=1:1.00\n",
      "Output #0, mp4, to '../video/video_mixed_contrast_bm3d.mp4':\n",
      "  Metadata:\n",
      "    major_brand     : isom\n",
      "    minor_version   : 512\n",
      "    compatible_brands: isomiso2avc1mp41\n",
      "    encoder         : Lavf58.45.100\n",
      "    Stream #0:0(und): Video: h264 (libx264) (avc1 / 0x31637661), yuv420p, 320x240 [SAR 1:1 DAR 4:3], q=-1--1, 29.97 fps, 30k tbn, 29.97 tbc (default)\n",
      "    Metadata:\n",
      "      handler_name    : VideoHandler\n",
      "      encoder         : Lavc58.91.100 libx264\n",
      "    Side data:\n",
      "      cpb: bitrate max/min/avg: 0/0/0 buffer size: 0 vbv_delay: N/A\n",
      "    Stream #0:1(und): Audio: aac (LC) (mp4a / 0x6134706D), 44100 Hz, stereo, fltp, 128 kb/s (default)\n",
      "    Metadata:\n",
      "      handler_name    : SoundHandler\n",
      "      encoder         : Lavc58.91.100 aac\n",
      "frame=  211 fps=0.8 q=-1.0 Lsize=     821kB time=00:00:07.03 bitrate= 955.8kbits/s speed=0.0257x    \n",
      "video:811kB audio:2kB subtitle:0kB other streams:0kB global headers:0kB muxing overhead: 0.935966%\n",
      "\u001b[1;36m[libx264 @ 0x563fb1bc1700] \u001b[0mframe I:52    Avg QP:20.06  size:  5892\n",
      "\u001b[1;36m[libx264 @ 0x563fb1bc1700] \u001b[0mframe P:133   Avg QP:25.05  size:  3522\n",
      "\u001b[1;36m[libx264 @ 0x563fb1bc1700] \u001b[0mframe B:26    Avg QP:25.10  size:  2135\n",
      "\u001b[1;36m[libx264 @ 0x563fb1bc1700] \u001b[0mconsecutive B-frames: 79.1% 10.4%  8.5%  1.9%\n",
      "\u001b[1;36m[libx264 @ 0x563fb1bc1700] \u001b[0mmb I  I16..4: 35.4% 50.3% 14.3%\n",
      "\u001b[1;36m[libx264 @ 0x563fb1bc1700] \u001b[0mmb P  I16..4: 17.1% 17.3%  5.7%  P16..4: 20.9%  3.7%  3.7%  0.0%  0.0%    skip:31.5%\n",
      "\u001b[1;36m[libx264 @ 0x563fb1bc1700] \u001b[0mmb B  I16..4:  7.8%  2.8%  0.7%  B16..8: 35.4%  2.7%  0.4%  direct: 4.1%  skip:46.1%  L0:48.9% L1:48.8% BI: 2.3%\n",
      "\u001b[1;36m[libx264 @ 0x563fb1bc1700] \u001b[0m8x8 transform intra:46.1% inter:66.5%\n",
      "\u001b[1;36m[libx264 @ 0x563fb1bc1700] \u001b[0mcoded y,uvDC,uvAC intra: 64.9% 0.0% 0.0% inter: 27.7% 0.0% 0.0%\n",
      "\u001b[1;36m[libx264 @ 0x563fb1bc1700] \u001b[0mi16 v,h,dc,p: 15%  8% 69%  9%\n",
      "\u001b[1;36m[libx264 @ 0x563fb1bc1700] \u001b[0mi8 v,h,dc,ddl,ddr,vr,hd,vl,hu: 27% 15% 42%  3%  2%  3%  3%  3%  2%\n",
      "\u001b[1;36m[libx264 @ 0x563fb1bc1700] \u001b[0mi4 v,h,dc,ddl,ddr,vr,hd,vl,hu: 27% 12% 43%  3%  4%  4%  4%  2%  2%\n",
      "\u001b[1;36m[libx264 @ 0x563fb1bc1700] \u001b[0mi8c dc,h,v,p: 100%  0%  0%  0%\n",
      "\u001b[1;36m[libx264 @ 0x563fb1bc1700] \u001b[0mWeighted P-Frames: Y:21.1% UV:0.0%\n",
      "\u001b[1;36m[libx264 @ 0x563fb1bc1700] \u001b[0mref P L0: 49.9% 11.9% 17.0% 16.7%  4.5%\n",
      "\u001b[1;36m[libx264 @ 0x563fb1bc1700] \u001b[0mref B L0: 77.4% 21.7%  0.9%\n",
      "\u001b[1;36m[libx264 @ 0x563fb1bc1700] \u001b[0mref B L1: 99.5%  0.5%\n",
      "\u001b[1;36m[libx264 @ 0x563fb1bc1700] \u001b[0mkb/s:943.45\n",
      "\u001b[1;36m[aac @ 0x563fb1bc37c0] \u001b[0mQavg: 65536.000\n"
     ]
    }
   ],
   "source": [
    "!ffmpeg -i ../video/video_mixed.mp4 -vf \"split[a][b];[a]bm3d=sigma=3:block=4:bstep=2:group=1:estim=basic[a];[b][a]bm3d=sigma=3:block=4:bstep=2:group=16:estim=final:ref=1\" ../video/video_mixed_bm3d.mp4 -y"
   ]
  },
  {
   "cell_type": "code",
   "execution_count": 7,
   "metadata": {},
   "outputs": [
    {
     "data": {
      "text/html": [
       "\n",
       "        <video width=\"320\" height=\"240\" controls>\n",
       "        <source src=\"../video/video_mixed_contrast_bm3d.mp4\" type=\"video/mp4\">\n",
       "        </video>\n",
       "        "
      ],
      "text/plain": [
       "<IPython.core.display.HTML object>"
      ]
     },
     "execution_count": 7,
     "metadata": {},
     "output_type": "execute_result"
    }
   ],
   "source": [
    "# play output video\n",
    "play_video('../video/video_mixed_bm3d.mp4')"
   ]
  },
  {
   "cell_type": "code",
   "execution_count": 19,
   "metadata": {
    "collapsed": true
   },
   "outputs": [
    {
     "name": "stdout",
     "output_type": "stream",
     "text": [
      "ffmpeg version n4.3.1 Copyright (c) 2000-2020 the FFmpeg developers\n",
      "  built with gcc 10.1.0 (GCC)\n",
      "  configuration: --prefix=/usr --disable-debug --disable-static --disable-stripping --enable-avisynth --enable-fontconfig --enable-gmp --enable-gnutls --enable-gpl --enable-ladspa --enable-libaom --enable-libass --enable-libbluray --enable-libdav1d --enable-libdrm --enable-libfreetype --enable-libfribidi --enable-libgsm --enable-libiec61883 --enable-libjack --enable-libmfx --enable-libmodplug --enable-libmp3lame --enable-libopencore_amrnb --enable-libopencore_amrwb --enable-libopenjpeg --enable-libopus --enable-libpulse --enable-librav1e --enable-libsoxr --enable-libspeex --enable-libsrt --enable-libssh --enable-libtheora --enable-libv4l2 --enable-libvidstab --enable-libvmaf --enable-libvorbis --enable-libvpx --enable-libwebp --enable-libx264 --enable-libx265 --enable-libxcb --enable-libxml2 --enable-libxvid --enable-nvdec --enable-nvenc --enable-omx --enable-shared --enable-version3\n",
      "  libavutil      56. 51.100 / 56. 51.100\n",
      "  libavcodec     58. 91.100 / 58. 91.100\n",
      "  libavformat    58. 45.100 / 58. 45.100\n",
      "  libavdevice    58. 10.100 / 58. 10.100\n",
      "  libavfilter     7. 85.100 /  7. 85.100\n",
      "  libswscale      5.  7.100 /  5.  7.100\n",
      "  libswresample   3.  7.100 /  3.  7.100\n",
      "  libpostproc    55.  7.100 / 55.  7.100\n",
      "Input #0, mov,mp4,m4a,3gp,3g2,mj2, from '../video/video_mixed_bm3d.mp4':\n",
      "  Metadata:\n",
      "    major_brand     : isom\n",
      "    minor_version   : 512\n",
      "    compatible_brands: isomiso2avc1mp41\n",
      "    encoder         : Lavf58.45.100\n",
      "  Duration: 00:00:07.06, start: 0.000000, bitrate: 373 kb/s\n",
      "    Stream #0:0(und): Video: h264 (High) (avc1 / 0x31637661), yuv420p, 320x240 [SAR 1:1 DAR 4:3], 363 kb/s, 29.97 fps, 29.97 tbr, 30k tbn, 59.94 tbc (default)\n",
      "    Metadata:\n",
      "      handler_name    : VideoHandler\n",
      "    Stream #0:1(und): Audio: aac (LC) (mp4a / 0x6134706D), 44100 Hz, stereo, fltp, 2 kb/s (default)\n",
      "    Metadata:\n",
      "      handler_name    : SoundHandler\n",
      "Stream mapping:\n",
      "  Stream #0:0 -> #0:0 (h264 (native) -> h264 (libx264))\n",
      "  Stream #0:1 -> #0:1 (aac (native) -> aac (native))\n",
      "Press [q] to stop, [?] for help\n",
      "\u001b[1;36m[libx264 @ 0x55dfa98053c0] \u001b[0musing SAR=1/1\n",
      "\u001b[1;36m[libx264 @ 0x55dfa98053c0] \u001b[0musing cpu capabilities: MMX2 SSE2Fast SSSE3 SSE4.2 AVX FMA3 BMI2 AVX2\n",
      "\u001b[1;36m[libx264 @ 0x55dfa98053c0] \u001b[0mprofile High, level 1.3, 4:2:0, 8-bit\n",
      "\u001b[1;36m[libx264 @ 0x55dfa98053c0] \u001b[0m264 - core 160 r3011 cde9a93 - H.264/MPEG-4 AVC codec - Copyleft 2003-2020 - http://www.videolan.org/x264.html - options: cabac=1 ref=3 deblock=1:0:0 analyse=0x3:0x113 me=hex subme=7 psy=1 psy_rd=1.00:0.00 mixed_ref=1 me_range=16 chroma_me=1 trellis=1 8x8dct=1 cqm=0 deadzone=21,11 fast_pskip=1 chroma_qp_offset=-2 threads=7 lookahead_threads=1 sliced_threads=0 nr=0 decimate=1 interlaced=0 bluray_compat=0 constrained_intra=0 bframes=3 b_pyramid=2 b_adapt=1 b_bias=0 direct=1 weightb=1 open_gop=0 weightp=2 keyint=250 keyint_min=25 scenecut=40 intra_refresh=0 rc_lookahead=40 rc=crf mbtree=1 crf=23.0 qcomp=0.60 qpmin=0 qpmax=69 qpstep=4 ip_ratio=1.40 aq=1:1.00\n",
      "Output #0, mp4, to '../video/video_mixed_bm3d_contrast.mp4':\n",
      "  Metadata:\n",
      "    major_brand     : isom\n",
      "    minor_version   : 512\n",
      "    compatible_brands: isomiso2avc1mp41\n",
      "    encoder         : Lavf58.45.100\n",
      "    Stream #0:0(und): Video: h264 (libx264) (avc1 / 0x31637661), yuv420p, 320x240 [SAR 1:1 DAR 4:3], q=-1--1, 29.97 fps, 30k tbn, 29.97 tbc (default)\n",
      "    Metadata:\n",
      "      handler_name    : VideoHandler\n",
      "      encoder         : Lavc58.91.100 libx264\n",
      "    Side data:\n",
      "      cpb: bitrate max/min/avg: 0/0/0 buffer size: 0 vbv_delay: N/A\n",
      "    Stream #0:1(und): Audio: aac (LC) (mp4a / 0x6134706D), 44100 Hz, stereo, fltp, 128 kb/s (default)\n",
      "    Metadata:\n",
      "      handler_name    : SoundHandler\n",
      "      encoder         : Lavc58.91.100 aac\n",
      "frame=  211 fps=0.0 q=-1.0 Lsize=     179kB time=00:00:07.03 bitrate= 208.8kbits/s speed=  23x    \n",
      "video:169kB audio:2kB subtitle:0kB other streams:0kB global headers:0kB muxing overhead: 4.770515%\n",
      "\u001b[1;36m[libx264 @ 0x55dfa98053c0] \u001b[0mframe I:46    Avg QP:16.96  size:  1603\n",
      "\u001b[1;36m[libx264 @ 0x55dfa98053c0] \u001b[0mframe P:99    Avg QP:22.89  size:   688\n",
      "\u001b[1;36m[libx264 @ 0x55dfa98053c0] \u001b[0mframe B:66    Avg QP:22.98  size:   469\n",
      "\u001b[1;36m[libx264 @ 0x55dfa98053c0] \u001b[0mconsecutive B-frames: 51.2% 18.0% 10.0% 20.9%\n",
      "\u001b[1;36m[libx264 @ 0x55dfa98053c0] \u001b[0mmb I  I16..4: 18.2% 71.2% 10.5%\n",
      "\u001b[1;36m[libx264 @ 0x55dfa98053c0] \u001b[0mmb P  I16..4:  3.6% 14.0%  4.7%  P16..4: 15.1%  3.5%  1.3%  0.0%  0.0%    skip:57.9%\n",
      "\u001b[1;36m[libx264 @ 0x55dfa98053c0] \u001b[0mmb B  I16..4:  1.1%  0.9%  0.1%  B16..8: 24.8%  2.6%  0.3%  direct: 3.2%  skip:67.0%  L0:60.0% L1:38.7% BI: 1.3%\n",
      "\u001b[1;36m[libx264 @ 0x55dfa98053c0] \u001b[0m8x8 transform intra:68.1% inter:50.4%\n",
      "\u001b[1;36m[libx264 @ 0x55dfa98053c0] \u001b[0mcoded y,uvDC,uvAC intra: 32.5% 0.0% 0.0% inter: 4.7% 0.0% 0.0%\n",
      "\u001b[1;36m[libx264 @ 0x55dfa98053c0] \u001b[0mi16 v,h,dc,p: 50% 20% 25%  5%\n",
      "\u001b[1;36m[libx264 @ 0x55dfa98053c0] \u001b[0mi8 v,h,dc,ddl,ddr,vr,hd,vl,hu: 39% 17% 31%  3%  2%  2%  2%  2%  1%\n",
      "\u001b[1;36m[libx264 @ 0x55dfa98053c0] \u001b[0mi4 v,h,dc,ddl,ddr,vr,hd,vl,hu: 39% 10% 42%  1%  3%  3%  3%  0%  0%\n",
      "\u001b[1;36m[libx264 @ 0x55dfa98053c0] \u001b[0mi8c dc,h,v,p: 100%  0%  0%  0%\n",
      "\u001b[1;36m[libx264 @ 0x55dfa98053c0] \u001b[0mWeighted P-Frames: Y:9.1% UV:0.0%\n",
      "\u001b[1;36m[libx264 @ 0x55dfa98053c0] \u001b[0mref P L0: 57.1%  7.2% 24.4% 10.8%  0.6%\n",
      "\u001b[1;36m[libx264 @ 0x55dfa98053c0] \u001b[0mref B L0: 76.4% 21.2%  2.3%\n",
      "\u001b[1;36m[libx264 @ 0x55dfa98053c0] \u001b[0mref B L1: 97.3%  2.7%\n",
      "\u001b[1;36m[libx264 @ 0x55dfa98053c0] \u001b[0mkb/s:196.31\n",
      "\u001b[1;36m[aac @ 0x55dfa983f240] \u001b[0mQavg: 65536.000\n"
     ]
    }
   ],
   "source": [
    "!ffmpeg -i ../video/video_mixed_bm3d.mp4 -vf eq=contrast=0.5:brightness=0.1 ../video/video_mixed_bm3d_contrast.mp4 -y"
   ]
  },
  {
   "cell_type": "code",
   "execution_count": 9,
   "metadata": {},
   "outputs": [
    {
     "data": {
      "text/html": [
       "\n",
       "        <video width=\"320\" height=\"240\" controls>\n",
       "        <source src=\"../video/video_mixed_bm3d.mp4\" type=\"video/mp4\">\n",
       "        </video>\n",
       "        "
      ],
      "text/plain": [
       "<IPython.core.display.HTML object>"
      ]
     },
     "execution_count": 9,
     "metadata": {},
     "output_type": "execute_result"
    }
   ],
   "source": [
    "# play output video\n",
    "play_video('../video/video_mixed_bm3d_contrast.mp4')"
   ]
  }
 ],
 "metadata": {
  "kernelspec": {
   "display_name": "Python 3",
   "language": "python",
   "name": "python3"
  },
  "language_info": {
   "codemirror_mode": {
    "name": "ipython",
    "version": 3
   },
   "file_extension": ".py",
   "mimetype": "text/x-python",
   "name": "python",
   "nbconvert_exporter": "python",
   "pygments_lexer": "ipython3",
   "version": "3.8.6"
  }
 },
 "nbformat": 4,
 "nbformat_minor": 2
}
