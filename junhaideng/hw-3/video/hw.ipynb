{
 "cells": [
  {
   "cell_type": "code",
   "execution_count": 125,
   "metadata": {},
   "outputs": [],
   "source": [
    "import subprocess\n",
    "from lab.helpers.notebook_helpers import play_video"
   ]
  },
  {
   "cell_type": "code",
   "execution_count": 126,
   "metadata": {},
   "outputs": [
    {
     "data": {
      "text/html": [
       "\n",
       "        <video width=\"320\" height=\"240\" controls>\n",
       "        <source src=\"./video_1.mp4\" type=\"video/mp4\">\n",
       "        </video>\n",
       "        "
      ],
      "text/plain": [
       "<IPython.core.display.HTML object>"
      ]
     },
     "execution_count": 126,
     "metadata": {},
     "output_type": "execute_result"
    }
   ],
   "source": [
    "# play video 1\n",
    "play_video('./video_1.mp4')"
   ]
  },
  {
   "cell_type": "code",
   "execution_count": 127,
   "metadata": {},
   "outputs": [
    {
     "data": {
      "text/html": [
       "\n",
       "        <video width=\"320\" height=\"240\" controls>\n",
       "        <source src=\"./video_2.mp4\" type=\"video/mp4\">\n",
       "        </video>\n",
       "        "
      ],
      "text/plain": [
       "<IPython.core.display.HTML object>"
      ]
     },
     "execution_count": 127,
     "metadata": {},
     "output_type": "execute_result"
    }
   ],
   "source": [
    "# play video 2\n",
    "play_video('./video_2.mp4')"
   ]
  },
  {
   "cell_type": "code",
   "execution_count": 128,
   "metadata": {},
   "outputs": [],
   "source": [
    "# use ffmpeg to mix 2 videos"
   ]
  },
  {
   "cell_type": "code",
   "execution_count": 129,
   "metadata": {},
   "outputs": [
    {
     "data": {
      "text/plain": [
       "CompletedProcess(args=['./ffmpeg', '-i', 'video_1.mp4', '-i', 'video_2.mp4', '-filter_complex', 'mix', 'output.mp4'], returncode=0)"
      ]
     },
     "execution_count": 129,
     "metadata": {},
     "output_type": "execute_result"
    }
   ],
   "source": [
    "output_video_name = \"output.mp4\"\n",
    "\n",
    "# the command to mix the two videos\n",
    "mix_command = [\"ffmpeg\", \"-i\", \"video_1.mp4\", \"-i\", \"video_2.mp4\", \"-filter_complex\", \"mix\", output_video_name]\n",
    "\n",
    "# exec the command\n",
    "subprocess.run(mix_command)\n"
   ]
  },
  {
   "cell_type": "code",
   "execution_count": 130,
   "metadata": {},
   "outputs": [
    {
     "data": {
      "text/html": [
       "\n",
       "        <video width=\"320\" height=\"240\" controls>\n",
       "        <source src=\"output.mp4\" type=\"video/mp4\">\n",
       "        </video>\n",
       "        "
      ],
      "text/plain": [
       "<IPython.core.display.HTML object>"
      ]
     },
     "execution_count": 130,
     "metadata": {},
     "output_type": "execute_result"
    }
   ],
   "source": [
    "# play output video\n",
    "# 这个视频就是直接合成，没有使用其他的任何处理\n",
    "play_video(output_video_name)"
   ]
  },
  {
   "cell_type": "markdown",
   "metadata": {},
   "source": [
    "### 调参不太会调，调了半天还是一样模糊 😂"
   ]
  },
  {
   "cell_type": "code",
   "execution_count": 131,
   "metadata": {},
   "outputs": [
    {
     "data": {
      "text/html": [
       "\n",
       "        <video width=\"320\" height=\"240\" controls>\n",
       "        <source src=\"./output_boxblur.mp4\" type=\"video/mp4\">\n",
       "        </video>\n",
       "        "
      ],
      "text/plain": [
       "<IPython.core.display.HTML object>"
      ]
     },
     "execution_count": 131,
     "metadata": {},
     "output_type": "execute_result"
    }
   ],
   "source": [
    "# boxblur\n",
    "cmd_1 = [\"ffmpeg\", \"-i\", \"output.mp4\", \"-vf\", \"boxblur\", \"output_boxblur.mp4\"]\n",
    "subprocess.run(cmd_1)\n",
    "play_video(\"./output_boxblur.mp4\")"
   ]
  },
  {
   "cell_type": "code",
   "execution_count": 132,
   "metadata": {},
   "outputs": [
    {
     "data": {
      "text/html": [
       "\n",
       "        <video width=\"320\" height=\"240\" controls>\n",
       "        <source src=\"output_smartblur.mp4\" type=\"video/mp4\">\n",
       "        </video>\n",
       "        "
      ],
      "text/plain": [
       "<IPython.core.display.HTML object>"
      ]
     },
     "execution_count": 132,
     "metadata": {},
     "output_type": "execute_result"
    }
   ],
   "source": [
    "# smartblur\n",
    "cmd_2 = [\"ffmpeg\", \"-i\", \"output.mp4\",\"-vf\", \"smartblur\", \"output_smartblur.mp4\"]\n",
    "subprocess.run(cmd_2)\n",
    "play_video(\"output_smartblur.mp4\")"
   ]
  },
  {
   "cell_type": "code",
   "execution_count": 135,
   "metadata": {},
   "outputs": [
    {
     "data": {
      "text/html": [
       "\n",
       "        <video width=\"320\" height=\"240\" controls>\n",
       "        <source src=\"./output_unsharp.mp4\" type=\"video/mp4\">\n",
       "        </video>\n",
       "        "
      ],
      "text/plain": [
       "<IPython.core.display.HTML object>"
      ]
     },
     "execution_count": 135,
     "metadata": {},
     "output_type": "execute_result"
    }
   ],
   "source": [
    "# unsharp\n",
    "cmd_3 = [\"ffmpeg\", \"-i\", \"output.mp4\", \"-vf\", \"unsharp\", \"output_unsharp.mp4\"]\n",
    "subprocess.run(cmd_3)\n",
    "play_video(\"./output_unsharp.mp4\")"
   ]
  },
  {
   "cell_type": "markdown",
   "metadata": {},
   "source": [
    "网上有一些其他的除噪方式，但是本地下载的ffmpeg似乎缺少相应的插件\n",
    "比如说denoise3d和hqdn3d"
   ]
  }
 ],
 "metadata": {
  "kernelspec": {
   "display_name": "Python 3",
   "language": "python",
   "name": "python3"
  },
  "language_info": {
   "codemirror_mode": {
    "name": "ipython",
    "version": 3
   },
   "file_extension": ".py",
   "mimetype": "text/x-python",
   "name": "python",
   "nbconvert_exporter": "python",
   "pygments_lexer": "ipython3",
   "version": "3.5.2"
  }
 },
 "nbformat": 4,
 "nbformat_minor": 2
}
